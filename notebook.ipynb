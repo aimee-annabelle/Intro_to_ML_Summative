{
  "cells": [
    {
      "cell_type": "markdown",
      "metadata": {
        "colab_type": "text",
        "id": "view-in-github"
      },
      "source": [
        "<a href=\"https://colab.research.google.com/github/aimee-annabelle/Intro_to_ML_Summative/blob/main/Summative_Intro_to_ml_Annabelle_Ineza_assignment.ipynb\" target=\"_parent\"><img src=\"https://colab.research.google.com/assets/colab-badge.svg\" alt=\"Open In Colab\"/></a>"
      ]
    },
    {
      "cell_type": "markdown",
      "metadata": {
        "id": "ujuLMxSvoXbg"
      },
      "source": [
        "# Optimization Techniques in Machine Learning\n",
        "\n",
        "Objective: This assignment aims to explore implementation or Machine Learning Models with regularization, optimization and Error analysis  techniques used in machine learning to improve models' performance, convergence speed, and efficiency..\n",
        "\n",
        "A Notebook detailing the following\n",
        "\n",
        "* Project name: Drug Demand Classification System for Health Clinics\n",
        "* Clear out puts from cells\n",
        "\n",
        "\n",
        "\n",
        "\n",
        "**Instructions**\n",
        "\n",
        "1. Acquire a dataset suitable for ML tasks as per your proposal.\n",
        "2. Implement a simple machine learning model based on neural networks on the chosen dataset without any defined optimization techniques. (Check instructions)\n",
        "3. Implement and compare the model's performance after applying 3 to 4 disntict combinations regularization and optimization techniques.\n",
        "4. Discuss the results on the README file.\n",
        "5. Make predictions using test data\n",
        "7. Implement error analysis techniques and ensure there is: F1-Score, Recall, Precision, RUC a confusion matrix using plotting libraries (not verbose)\n",
        "\n",
        "Submit notebook to github repo\n",
        "\n"
      ]
    },
    {
      "cell_type": "markdown",
      "metadata": {
        "id": "o8VW_IzbI3od"
      },
      "source": [
        "\n",
        "# Case Study and Implementation\n",
        "\n",
        "\n"
      ]
    },
    {
      "cell_type": "code",
      "execution_count": null,
      "metadata": {},
      "outputs": [],
      "source": [
        "import sys\n",
        "!{sys.executable} -m pip install xgboost"
      ]
    },
    {
      "cell_type": "code",
      "execution_count": 3,
      "metadata": {
        "id": "wGCnpzs9M4Fd"
      },
      "outputs": [
        {
          "name": "stdout",
          "output_type": "stream",
          "text": [
            "Libraries imported successfully!\n"
          ]
        }
      ],
      "source": [
        "#Import Necessary Libraries\n",
        "\n",
        "import pandas as pd\n",
        "import numpy as np\n",
        "import matplotlib.pyplot as plt\n",
        "import seaborn as sns\n",
        "from sklearn.model_selection import train_test_split, GridSearchCV\n",
        "from sklearn.preprocessing import StandardScaler\n",
        "from sklearn.linear_model import LogisticRegression\n",
        "from sklearn.metrics import confusion_matrix, f1_score, precision_score, recall_score, accuracy_score\n",
        "import xgboost as xgb\n",
        "from tensorflow.keras.models import Sequential, load_model\n",
        "from tensorflow.keras.layers import Dense, Dropout\n",
        "from tensorflow.keras.optimizers import Adam, RMSprop, SGD\n",
        "from tensorflow.keras.regularizers import l1, l2, l1_l2\n",
        "from tensorflow.keras.callbacks import EarlyStopping\n",
        "from tensorflow.keras.utils import to_categorical\n",
        "import warnings\n",
        "warnings.filterwarnings('ignore')\n",
        "\n",
        "print(\"Libraries imported successfully!\")"
      ]
    },
    {
      "cell_type": "markdown",
      "metadata": {
        "id": "M1FN7bFeIxfH"
      },
      "source": [
        "# The Dataset\n",
        "> ***Brief Description:***\n",
        "State the Problem and A short Description of the data\n"
      ]
    },
    {
      "cell_type": "code",
      "execution_count": 7,
      "metadata": {
        "id": "nas-T7xwPIso"
      },
      "outputs": [
        {
          "name": "stdout",
          "output_type": "stream",
          "text": [
            "Data shape: (295, 39)\n",
            "Demand distribution:\n",
            "demand_category\n",
            "0    98\n",
            "1    99\n",
            "2    98\n",
            "Name: count, dtype: int64\n"
          ]
        }
      ],
      "source": [
        "#TO DO: Load Data (Seprate into: Train, Validation and test sets)\n",
        "\n",
        "\n",
        "def load_and_preprocess_data(file_path):\n",
        "    \"\"\"\n",
        "    Load drug consumption data and create classification labels\n",
        "    \"\"\"\n",
        "    # Load data\n",
        "    df = pd.read_csv(file_path)\n",
        "    \n",
        "    # Convert date column\n",
        "    df['datum'] = pd.to_datetime(df['datum'], format='%m/%d/%Y')\n",
        "    \n",
        "    # Extract date features\n",
        "    df['year'] = df['datum'].dt.year\n",
        "    df['month'] = df['datum'].dt.month\n",
        "    df['day_of_year'] = df['datum'].dt.dayofyear\n",
        "    df['quarter'] = df['datum'].dt.quarter\n",
        "    \n",
        "    # Create lag features for time series context\n",
        "    drug_columns = [col for col in df.columns if col not in ['datum', 'year', 'month', 'day_of_year', 'quarter']]\n",
        "    \n",
        "    for col in drug_columns:\n",
        "        df[f'{col}_lag1'] = df[col].shift(1)\n",
        "        df[f'{col}_lag7'] = df[col].shift(7)  # Weekly lag\n",
        "        df[f'{col}_rolling_mean'] = df[col].rolling(window=7).mean()\n",
        "    \n",
        "    # Drop rows with NaN values\n",
        "    df = df.dropna()\n",
        "    \n",
        "    # Create target variable: classify total demand into categories\n",
        "    df['total_demand'] = df[drug_columns].sum(axis=1)\n",
        "    \n",
        "    # Create demand categories based on percentiles\n",
        "    low_threshold = df['total_demand'].quantile(0.33)\n",
        "    high_threshold = df['total_demand'].quantile(0.67)\n",
        "    \n",
        "    def categorize_demand(demand):\n",
        "        if demand <= low_threshold:\n",
        "            return 0  # Low demand\n",
        "        elif demand <= high_threshold:\n",
        "            return 1  # Medium demand\n",
        "        else:\n",
        "            return 2  # High demand\n",
        "    \n",
        "    df['demand_category'] = df['total_demand'].apply(categorize_demand)\n",
        "    \n",
        "    print(f\"Data shape: {df.shape}\")\n",
        "    print(f\"Demand distribution:\\n{df['demand_category'].value_counts().sort_index()}\")\n",
        "    \n",
        "    return df\n",
        "df = load_and_preprocess_data('salesweekly.csv')"
      ]
    },
    {
      "cell_type": "code",
      "execution_count": 8,
      "metadata": {},
      "outputs": [
        {
          "name": "stdout",
          "output_type": "stream",
          "text": [
            "Training set: (177, 36)\n",
            "Validation set: (59, 36)\n",
            "Test set: (59, 36)\n"
          ]
        }
      ],
      "source": [
        "# Data splitting\n",
        "# Prepare features and target\n",
        "feature_columns = [col for col in df.columns if col not in ['datum', 'total_demand', 'demand_category']]\n",
        "X = df[feature_columns]\n",
        "y = df['demand_category']\n",
        "\n",
        "# Split data\n",
        "X_train, X_temp, y_train, y_temp = train_test_split(X, y, test_size=0.4, random_state=42, stratify=y)\n",
        "X_val, X_test, y_val, y_test = train_test_split(X_temp, y_temp, test_size=0.5, random_state=42, stratify=y_temp)\n",
        "\n",
        "# Scale features\n",
        "scaler = StandardScaler()\n",
        "X_train_scaled = scaler.fit_transform(X_train)\n",
        "X_val_scaled = scaler.transform(X_val)\n",
        "X_test_scaled = scaler.transform(X_test)\n",
        "\n",
        "print(f\"Training set: {X_train.shape}\")\n",
        "print(f\"Validation set: {X_val.shape}\")\n",
        "print(f\"Test set: {X_test.shape}\")"
      ]
    },
    {
      "cell_type": "markdown",
      "metadata": {
        "id": "ve4AiQmGMzIN"
      },
      "source": [
        "#SECTION 1: Model Architecture:\n",
        "\n",
        "\n",
        "\n",
        "```\n",
        "TODO: Insert an image with the Model architecture here.Replace the image Below\n",
        "```\n",
        "> <img src=\"https://miro.medium.com/v2/resize:fit:640/format:webp/1*v1ohAG82xmU6WGsG2hoE8g.png\" alt=\"?\" style=\"width:25px\"/>\n",
        "\n",
        "\n"
      ]
    },
    {
      "cell_type": "markdown",
      "metadata": {
        "id": "QR4BNYoUMzMP"
      },
      "source": [
        "#Task: Define a function that creates models without and With specified Optimization techniques\n"
      ]
    },
    {
      "cell_type": "code",
      "execution_count": 9,
      "metadata": {},
      "outputs": [
        {
          "name": "stdout",
          "output_type": "stream",
          "text": [
            "\n",
            "==================================================\n",
            "MODEL 1: LOGISTIC REGRESSION (OPTIMIZED)\n",
            "==================================================\n",
            "Best parameters: {'C': 10, 'max_iter': 1000, 'solver': 'lbfgs'}\n",
            "Accuracy: 0.8644\n",
            "F1-Score: 0.8672\n",
            "Precision: 0.8727\n",
            "Recall: 0.8649\n"
          ]
        }
      ],
      "source": [
        "# ==================== MODEL 1: CLASSICAL ML (LOGISTIC REGRESSION) ====================\n",
        "\n",
        "print(\"\\n\" + \"=\"*50)\n",
        "print(\"MODEL 1: LOGISTIC REGRESSION (OPTIMIZED)\")\n",
        "print(\"=\"*50)\n",
        "\n",
        "# Hyperparameter tuning for Logistic Regression\n",
        "lr_params = {\n",
        "    'C': [0.01, 0.1, 1, 10, 100],\n",
        "    'solver': ['liblinear', 'lbfgs'],\n",
        "    'max_iter': [1000, 2000]\n",
        "}\n",
        "\n",
        "lr_grid = GridSearchCV(LogisticRegression(random_state=42), lr_params, cv=5, scoring='f1_macro')\n",
        "lr_grid.fit(X_train_scaled, y_train)\n",
        "\n",
        "lr_model = lr_grid.best_estimator_\n",
        "lr_pred = lr_model.predict(X_test_scaled)\n",
        "\n",
        "print(f\"Best parameters: {lr_grid.best_params_}\")\n",
        "print(f\"Accuracy: {accuracy_score(y_test, lr_pred):.4f}\")\n",
        "print(f\"F1-Score: {f1_score(y_test, lr_pred, average='macro'):.4f}\")\n",
        "print(f\"Precision: {precision_score(y_test, lr_pred, average='macro'):.4f}\")\n",
        "print(f\"Recall: {recall_score(y_test, lr_pred, average='macro'):.4f}\")\n",
        "\n"
      ]
    },
    {
      "cell_type": "code",
      "execution_count": 11,
      "metadata": {},
      "outputs": [
        {
          "name": "stdout",
          "output_type": "stream",
          "text": [
            "\n",
            "==================================================\n",
            "MODEL 2: SIMPLE NEURAL NETWORK (NO OPTIMIZATION)\n",
            "==================================================\n",
            "\u001b[1m2/2\u001b[0m \u001b[32m━━━━━━━━━━━━━━━━━━━━\u001b[0m\u001b[37m\u001b[0m \u001b[1m1s\u001b[0m 287ms/step\n",
            "Accuracy: 0.7627\n",
            "F1-Score: 0.7684\n",
            "Precision: 0.7861\n",
            "Recall: 0.7623\n"
          ]
        }
      ],
      "source": [
        "# ==================== MODEL 2: SIMPLE NEURAL NETWORK (NO OPTIMIZATION) ====================\n",
        "\n",
        "print(\"\\n\" + \"=\"*50)\n",
        "print(\"MODEL 2: SIMPLE NEURAL NETWORK (NO OPTIMIZATION)\")\n",
        "print(\"=\"*50)\n",
        "\n",
        "def create_simple_model(input_dim, num_classes):\n",
        "    model = Sequential([\n",
        "        Dense(64, activation='relu', input_dim=input_dim),\n",
        "        Dense(32, activation='relu'),\n",
        "        Dense(num_classes, activation='softmax')\n",
        "    ])\n",
        "    model.compile(optimizer='adam', loss='sparse_categorical_crossentropy', metrics=['accuracy'])\n",
        "    return model\n",
        "\n",
        "simple_nn = create_simple_model(X_train_scaled.shape[1], 3)\n",
        "history_simple = simple_nn.fit(X_train_scaled, y_train, \n",
        "                               validation_data=(X_val_scaled, y_val),\n",
        "                               epochs=50, batch_size=32, verbose=0)\n",
        "\n",
        "simple_pred = simple_nn.predict(X_test_scaled)\n",
        "simple_pred_classes = np.argmax(simple_pred, axis=1)\n",
        "\n",
        "print(f\"Accuracy: {accuracy_score(y_test, simple_pred_classes):.4f}\")\n",
        "print(f\"F1-Score: {f1_score(y_test, simple_pred_classes, average='macro'):.4f}\")\n",
        "print(f\"Precision: {precision_score(y_test, simple_pred_classes, average='macro'):.4f}\")\n",
        "print(f\"Recall: {recall_score(y_test, simple_pred_classes, average='macro'):.4f}\")"
      ]
    },
    {
      "cell_type": "code",
      "execution_count": 13,
      "metadata": {},
      "outputs": [
        {
          "name": "stdout",
          "output_type": "stream",
          "text": [
            "\n",
            "==================================================\n",
            "MODEL 3: OPTIMIZED NEURAL NETWORK\n",
            "==================================================\n"
          ]
        }
      ],
      "source": [
        "# ==================== MODEL 3: OPTIMIZED NEURAL NETWORK ====================\n",
        "\n",
        "print(\"\\n\" + \"=\"*50)\n",
        "print(\"MODEL 3: OPTIMIZED NEURAL NETWORK\")\n",
        "print(\"=\"*50)\n",
        "\n",
        "def create_optimized_model(input_dim, num_classes, optimizer='adam', learning_rate=0.001, \n",
        "                          dropout_rate=0.3, l2_reg=0.001):\n",
        "    model = Sequential([\n",
        "        Dense(128, activation='relu', input_dim=input_dim, \n",
        "              kernel_regularizer=l2(l2_reg)),\n",
        "        Dropout(dropout_rate),\n",
        "        Dense(64, activation='relu', kernel_regularizer=l2(l2_reg)),\n",
        "        Dropout(dropout_rate),\n",
        "        Dense(32, activation='relu', kernel_regularizer=l2(l2_reg)),\n",
        "        Dense(num_classes, activation='softmax')\n",
        "    ])\n",
        "    \n",
        "    if optimizer == 'adam':\n",
        "        opt = Adam(learning_rate=learning_rate)\n",
        "    elif optimizer == 'rmsprop':\n",
        "        opt = RMSprop(learning_rate=learning_rate)\n",
        "    else:\n",
        "        opt = SGD(learning_rate=learning_rate)\n",
        "    \n",
        "    model.compile(optimizer=opt, loss='sparse_categorical_crossentropy', metrics=['accuracy'])\n",
        "    return model\n",
        "\n",
        "# Training multiple instances with different configurations\n",
        "results_table = []"
      ]
    },
    {
      "cell_type": "code",
      "execution_count": 14,
      "metadata": {},
      "outputs": [
        {
          "name": "stdout",
          "output_type": "stream",
          "text": [
            "\n",
            "Instance 1: Default Configuration\n",
            "\u001b[1m2/2\u001b[0m \u001b[32m━━━━━━━━━━━━━━━━━━━━\u001b[0m\u001b[37m\u001b[0m \u001b[1m3s\u001b[0m 2s/step   \n"
          ]
        }
      ],
      "source": [
        "# Instance 1: Default settings\n",
        "print(\"\\nInstance 1: Default Configuration\")\n",
        "model1 = create_optimized_model(X_train_scaled.shape[1], 3)\n",
        "history1 = model1.fit(X_train_scaled, y_train, \n",
        "                     validation_data=(X_val_scaled, y_val),\n",
        "                     epochs=50, batch_size=32, verbose=0)\n",
        "\n",
        "pred1 = model1.predict(X_test_scaled)\n",
        "pred1_classes = np.argmax(pred1, axis=1)\n",
        "\n",
        "results_table.append({\n",
        "    'Instance': 1,\n",
        "    'Optimizer': 'Adam (default)',\n",
        "    'Learning_Rate': 0.001,\n",
        "    'Dropout': 0.3,\n",
        "    'L2_Regularization': 0.001,\n",
        "    'Early_Stopping': 'No',\n",
        "    'Epochs': 50,\n",
        "    'Accuracy': accuracy_score(y_test, pred1_classes),\n",
        "    'Loss': history1.history['val_loss'][-1],\n",
        "    'F1_Score': f1_score(y_test, pred1_classes, average='macro'),\n",
        "    'Precision': precision_score(y_test, pred1_classes, average='macro'),\n",
        "    'Recall': recall_score(y_test, pred1_classes, average='macro')\n",
        "})"
      ]
    },
    {
      "cell_type": "code",
      "execution_count": 15,
      "metadata": {},
      "outputs": [
        {
          "name": "stdout",
          "output_type": "stream",
          "text": [
            "\n",
            "Instance 2: Adam + Early Stopping\n",
            "WARNING:tensorflow:5 out of the last 5 calls to <function TensorFlowTrainer.make_predict_function.<locals>.one_step_on_data_distributed at 0x000001BBF5485EE0> triggered tf.function retracing. Tracing is expensive and the excessive number of tracings could be due to (1) creating @tf.function repeatedly in a loop, (2) passing tensors with different shapes, (3) passing Python objects instead of tensors. For (1), please define your @tf.function outside of the loop. For (2), @tf.function has reduce_retracing=True option that can avoid unnecessary retracing. For (3), please refer to https://www.tensorflow.org/guide/function#controlling_retracing and https://www.tensorflow.org/api_docs/python/tf/function for  more details.\n",
            "\u001b[1m1/2\u001b[0m \u001b[32m━━━━━━━━━━\u001b[0m\u001b[37m━━━━━━━━━━\u001b[0m \u001b[1m0s\u001b[0m 544ms/stepWARNING:tensorflow:6 out of the last 6 calls to <function TensorFlowTrainer.make_predict_function.<locals>.one_step_on_data_distributed at 0x000001BBF5485EE0> triggered tf.function retracing. Tracing is expensive and the excessive number of tracings could be due to (1) creating @tf.function repeatedly in a loop, (2) passing tensors with different shapes, (3) passing Python objects instead of tensors. For (1), please define your @tf.function outside of the loop. For (2), @tf.function has reduce_retracing=True option that can avoid unnecessary retracing. For (3), please refer to https://www.tensorflow.org/guide/function#controlling_retracing and https://www.tensorflow.org/api_docs/python/tf/function for  more details.\n",
            "\u001b[1m2/2\u001b[0m \u001b[32m━━━━━━━━━━━━━━━━━━━━\u001b[0m\u001b[37m\u001b[0m \u001b[1m1s\u001b[0m 500ms/step\n"
          ]
        }
      ],
      "source": [
        "# Instance 2: Adam with Early Stopping\n",
        "print(\"\\nInstance 2: Adam + Early Stopping\")\n",
        "model2 = create_optimized_model(X_train_scaled.shape[1], 3, optimizer='adam', \n",
        "                               learning_rate=0.01, dropout_rate=0.4, l2_reg=0.01)\n",
        "early_stopping = EarlyStopping(monitor='val_loss', patience=10, restore_best_weights=True)\n",
        "history2 = model2.fit(X_train_scaled, y_train, \n",
        "                     validation_data=(X_val_scaled, y_val),\n",
        "                     epochs=100, batch_size=32, callbacks=[early_stopping], verbose=0)\n",
        "\n",
        "pred2 = model2.predict(X_test_scaled)\n",
        "pred2_classes = np.argmax(pred2, axis=1)\n",
        "\n",
        "results_table.append({\n",
        "    'Instance': 2,\n",
        "    'Optimizer': 'Adam',\n",
        "    'Learning_Rate': 0.01,\n",
        "    'Dropout': 0.4,\n",
        "    'L2_Regularization': 0.01,\n",
        "    'Early_Stopping': 'Yes',\n",
        "    'Epochs': len(history2.history['loss']),\n",
        "    'Accuracy': accuracy_score(y_test, pred2_classes),\n",
        "    'Loss': history2.history['val_loss'][-1],\n",
        "    'F1_Score': f1_score(y_test, pred2_classes, average='macro'),\n",
        "    'Precision': precision_score(y_test, pred2_classes, average='macro'),\n",
        "    'Recall': recall_score(y_test, pred2_classes, average='macro')\n",
        "})"
      ]
    },
    {
      "cell_type": "code",
      "execution_count": 16,
      "metadata": {},
      "outputs": [
        {
          "name": "stdout",
          "output_type": "stream",
          "text": [
            "\n",
            "Instance 3: RMSprop + High Dropout\n",
            "\u001b[1m2/2\u001b[0m \u001b[32m━━━━━━━━━━━━━━━━━━━━\u001b[0m\u001b[37m\u001b[0m \u001b[1m1s\u001b[0m 885ms/step\n"
          ]
        }
      ],
      "source": [
        "# Instance 3: RMSprop with different settings\n",
        "print(\"\\nInstance 3: RMSprop + High Dropout\")\n",
        "model3 = create_optimized_model(X_train_scaled.shape[1], 3, optimizer='rmsprop', \n",
        "                               learning_rate=0.005, dropout_rate=0.5, l2_reg=0.005)\n",
        "history3 = model3.fit(X_train_scaled, y_train, \n",
        "                     validation_data=(X_val_scaled, y_val),\n",
        "                     epochs=75, batch_size=16, verbose=0)\n",
        "\n",
        "pred3 = model3.predict(X_test_scaled)\n",
        "pred3_classes = np.argmax(pred3, axis=1)\n",
        "\n",
        "results_table.append({\n",
        "    'Instance': 3,\n",
        "    'Optimizer': 'RMSprop',\n",
        "    'Learning_Rate': 0.005,\n",
        "    'Dropout': 0.5,\n",
        "    'L2_Regularization': 0.005,\n",
        "    'Early_Stopping': 'No',\n",
        "    'Epochs': 75,\n",
        "    'Accuracy': accuracy_score(y_test, pred3_classes),\n",
        "    'Loss': history3.history['val_loss'][-1],\n",
        "    'F1_Score': f1_score(y_test, pred3_classes, average='macro'),\n",
        "    'Precision': precision_score(y_test, pred3_classes, average='macro'),\n",
        "    'Recall': recall_score(y_test, pred3_classes, average='macro')\n",
        "})"
      ]
    },
    {
      "cell_type": "code",
      "execution_count": 17,
      "metadata": {},
      "outputs": [
        {
          "name": "stdout",
          "output_type": "stream",
          "text": [
            "\n",
            "Instance 4: SGD + Lower Learning Rate\n",
            "\u001b[1m2/2\u001b[0m \u001b[32m━━━━━━━━━━━━━━━━━━━━\u001b[0m\u001b[37m\u001b[0m \u001b[1m1s\u001b[0m 496ms/step\n"
          ]
        }
      ],
      "source": [
        "# Instance 4: SGD with momentum\n",
        "print(\"\\nInstance 4: SGD + Lower Learning Rate\")\n",
        "model4 = create_optimized_model(X_train_scaled.shape[1], 3, optimizer='sgd', \n",
        "                               learning_rate=0.01, dropout_rate=0.2, l2_reg=0.01)\n",
        "early_stopping2 = EarlyStopping(monitor='val_loss', patience=15, restore_best_weights=True)\n",
        "history4 = model4.fit(X_train_scaled, y_train, \n",
        "                     validation_data=(X_val_scaled, y_val),\n",
        "                     epochs=100, batch_size=64, callbacks=[early_stopping2], verbose=0)\n",
        "\n",
        "pred4 = model4.predict(X_test_scaled)\n",
        "pred4_classes = np.argmax(pred4, axis=1)\n",
        "\n",
        "results_table.append({\n",
        "    'Instance': 4,\n",
        "    'Optimizer': 'SGD',\n",
        "    'Learning_Rate': 0.01,\n",
        "    'Dropout': 0.2,\n",
        "    'L2_Regularization': 0.01,\n",
        "    'Early_Stopping': 'Yes',\n",
        "    'Epochs': len(history4.history['loss']),\n",
        "    'Accuracy': accuracy_score(y_test, pred4_classes),\n",
        "    'Loss': history4.history['val_loss'][-1],\n",
        "    'F1_Score': f1_score(y_test, pred4_classes, average='macro'),\n",
        "    'Precision': precision_score(y_test, pred4_classes, average='macro'),\n",
        "    'Recall': recall_score(y_test, pred4_classes, average='macro')\n",
        "})\n"
      ]
    },
    {
      "cell_type": "code",
      "execution_count": 18,
      "metadata": {},
      "outputs": [
        {
          "name": "stdout",
          "output_type": "stream",
          "text": [
            "\n",
            "Instance 5: High LR + Strong Regularization\n",
            "\u001b[1m2/2\u001b[0m \u001b[32m━━━━━━━━━━━━━━━━━━━━\u001b[0m\u001b[37m\u001b[0m \u001b[1m1s\u001b[0m 589ms/step\n"
          ]
        }
      ],
      "source": [
        "# Instance 5: High learning rate with strong regularization\n",
        "print(\"\\nInstance 5: High LR + Strong Regularization\")\n",
        "model5 = create_optimized_model(X_train_scaled.shape[1], 3, optimizer='adam', \n",
        "                               learning_rate=0.1, dropout_rate=0.6, l2_reg=0.1)\n",
        "history5 = model5.fit(X_train_scaled, y_train, \n",
        "                     validation_data=(X_val_scaled, y_val),\n",
        "                     epochs=50, batch_size=32, verbose=0)\n",
        "\n",
        "pred5 = model5.predict(X_test_scaled)\n",
        "pred5_classes = np.argmax(pred5, axis=1)\n",
        "\n",
        "results_table.append({\n",
        "    'Instance': 5,\n",
        "    'Optimizer': 'Adam',\n",
        "    'Learning_Rate': 0.1,\n",
        "    'Dropout': 0.6,\n",
        "    'L2_Regularization': 0.1,\n",
        "    'Early_Stopping': 'No',\n",
        "    'Epochs': 50,\n",
        "    'Accuracy': accuracy_score(y_test, pred5_classes),\n",
        "    'Loss': history5.history['val_loss'][-1],\n",
        "    'F1_Score': f1_score(y_test, pred5_classes, average='macro'),\n",
        "    'Precision': precision_score(y_test, pred5_classes, average='macro'),\n",
        "    'Recall': recall_score(y_test, pred5_classes, average='macro')\n",
        "})\n"
      ]
    },
    {
      "cell_type": "code",
      "execution_count": 19,
      "metadata": {},
      "outputs": [
        {
          "name": "stdout",
          "output_type": "stream",
          "text": [
            "\n",
            "====================================================================================================\n",
            "NEURAL NETWORK OPTIMIZATION RESULTS TABLE\n",
            "====================================================================================================\n",
            "   Instance       Optimizer  Learning_Rate  Dropout  L2_Regularization  \\\n",
            "0         1  Adam (default)          0.001      0.3              0.001   \n",
            "1         2            Adam          0.010      0.4              0.010   \n",
            "2         3         RMSprop          0.005      0.5              0.005   \n",
            "3         4             SGD          0.010      0.2              0.010   \n",
            "4         5            Adam          0.100      0.6              0.100   \n",
            "\n",
            "  Early_Stopping  Epochs  Accuracy    Loss  F1_Score  Precision  Recall  \n",
            "0             No      50    0.8305  0.6191    0.8259     0.8295  0.8316  \n",
            "1            Yes      22    0.8814  0.6966    0.8820     0.8822  0.8825  \n",
            "2             No      75    0.7797  0.7090    0.7606     0.7895  0.7816  \n",
            "3            Yes     100    0.7627  2.3263    0.7516     0.7703  0.7632  \n",
            "4             No      50    0.3390  1.1122    0.1688     0.1130  0.3333  \n"
          ]
        }
      ],
      "source": [
        "# Results table\n",
        "results_df = pd.DataFrame(results_table)\n",
        "print(\"\\n\" + \"=\"*100)\n",
        "print(\"NEURAL NETWORK OPTIMIZATION RESULTS TABLE\")\n",
        "print(\"=\"*100)\n",
        "print(results_df.round(4))"
      ]
    },
    {
      "cell_type": "code",
      "execution_count": 20,
      "metadata": {},
      "outputs": [
        {
          "name": "stdout",
          "output_type": "stream",
          "text": [
            "\n",
            "==================================================\n",
            "MODEL 4: XGBOOST (OPTIMIZED)\n",
            "==================================================\n",
            "Best parameters: {'learning_rate': 0.01, 'max_depth': 3, 'n_estimators': 100, 'subsample': 0.8}\n",
            "Accuracy: 0.8644\n",
            "F1-Score: 0.8638\n",
            "Precision: 0.8778\n",
            "Recall: 0.8632\n"
          ]
        }
      ],
      "source": [
        "# ==================== MODEL 4: XGBOOST ====================\n",
        "\n",
        "print(\"\\n\" + \"=\"*50)\n",
        "print(\"MODEL 4: XGBOOST (OPTIMIZED)\")\n",
        "print(\"=\"*50)\n",
        "\n",
        "xgb_params = {\n",
        "    'n_estimators': [100, 200],\n",
        "    'max_depth': [3, 5, 7],\n",
        "    'learning_rate': [0.01, 0.1, 0.2],\n",
        "    'subsample': [0.8, 1.0]\n",
        "}\n",
        "\n",
        "xgb_grid = GridSearchCV(xgb.XGBClassifier(random_state=42), \n",
        "                        xgb_params, cv=3, scoring='f1_macro', n_jobs=-1)\n",
        "xgb_grid.fit(X_train_scaled, y_train)\n",
        "\n",
        "xgb_model = xgb_grid.best_estimator_\n",
        "xgb_pred = xgb_model.predict(X_test_scaled)\n",
        "\n",
        "print(f\"Best parameters: {xgb_grid.best_params_}\")\n",
        "print(f\"Accuracy: {accuracy_score(y_test, xgb_pred):.4f}\")\n",
        "print(f\"F1-Score: {f1_score(y_test, xgb_pred, average='macro'):.4f}\")\n",
        "print(f\"Precision: {precision_score(y_test, xgb_pred, average='macro'):.4f}\")\n",
        "print(f\"Recall: {recall_score(y_test, xgb_pred, average='macro'):.4f}\")\n"
      ]
    },
    {
      "cell_type": "markdown",
      "metadata": {
        "id": "KJ9OXp1TSaXn"
      },
      "source": [
        "# Task: Print out the Final Model Accuracy and plot the Loss curve"
      ]
    },
    {
      "cell_type": "code",
      "execution_count": 21,
      "metadata": {},
      "outputs": [
        {
          "data": {
            "image/png": "[encoded data removed]",
            "text/plain": [
              "<Figure size 1500x500 with 4 Axes>"
            ]
          },
          "metadata": {},
          "output_type": "display_data"
        }
      ],
      "source": [
        "# Plot training history for the best neural network model\n",
        "best_idx = results_df['F1_Score'].idxmax()\n",
        "best_model_history = [history1, history2, history3, history4, history5][best_idx]\n",
        "\n",
        "plt.figure(figsize=(15, 5))\n",
        "\n",
        "plt.subplot(1, 3, 1)\n",
        "plt.plot(best_model_history.history['loss'], label='Training Loss')\n",
        "plt.plot(best_model_history.history['val_loss'], label='Validation Loss')\n",
        "plt.title('Training and Validation Loss')\n",
        "plt.xlabel('Epochs')\n",
        "plt.ylabel('Loss')\n",
        "plt.legend()\n",
        "\n",
        "plt.subplot(1, 3, 2)\n",
        "plt.plot(best_model_history.history['accuracy'], label='Training Accuracy')\n",
        "plt.plot(best_model_history.history['val_accuracy'], label='Validation Accuracy')\n",
        "plt.title('Training and Validation Accuracy')\n",
        "plt.xlabel('Epochs')\n",
        "plt.ylabel('Accuracy')\n",
        "plt.legend()\n",
        "\n",
        "# Confusion Matrix for best model\n",
        "best_pred = [pred1_classes, pred2_classes, pred3_classes, pred4_classes, pred5_classes][best_idx]\n",
        "plt.subplot(1, 3, 3)\n",
        "cm = confusion_matrix(y_test, best_pred)\n",
        "sns.heatmap(cm, annot=True, fmt='d', cmap='Blues')\n",
        "plt.title('Confusion Matrix - Best Neural Network')\n",
        "plt.xlabel('Predicted')\n",
        "plt.ylabel('Actual')\n",
        "\n",
        "plt.tight_layout()\n",
        "plt.show()"
      ]
    },
    {
      "cell_type": "markdown",
      "metadata": {
        "id": "9hc6k2taT0_n"
      },
      "source": [
        "# SECTION 2: Optimization and Regularization Combinations\n",
        "At this point you should now create models that combine various optimization techniques\n",
        "As done before make sure to plot out the loss curve and the accuracy and loss in verbose"
      ]
    },
    {
      "cell_type": "markdown",
      "metadata": {
        "id": "3aZLEriYOXI1"
      },
      "source": [
        "#Task: Make Predictions using the best saved model\n"
      ]
    },
    {
      "cell_type": "markdown",
      "metadata": {
        "id": "LnBLwqTJX3p0"
      },
      "source": [
        "Create a confusion Matrix and F1 score for both Models. Ensure outputs for the cells are visible"
      ]
    },
    {
      "cell_type": "markdown",
      "metadata": {
        "id": "bO79SOsZYG-M"
      },
      "source": [
        "Finally, Make predictions using the best model. By the time you get to this cell you may realise at some point you needed to save the model so that you cal load it later"
      ]
    },
    {
      "cell_type": "code",
      "execution_count": 23,
      "metadata": {},
      "outputs": [
        {
          "name": "stdout",
          "output_type": "stream",
          "text": [
            "\n",
            "======================================================================\n",
            "FINAL MODEL COMPARISON\n",
            "======================================================================\n",
            "                   Model  Accuracy  F1_Score  Precision  Recall\n",
            "0    Logistic Regression    0.8644    0.8672     0.8727  0.8649\n",
            "1  Simple Neural Network    0.7627    0.7684     0.7861  0.7623\n",
            "2    Best Neural Network    0.8814    0.8820     0.8822  0.8825\n",
            "3                XGBoost    0.8644    0.8638     0.8778  0.8632\n"
          ]
        }
      ],
      "source": [
        "\n",
        "# ==================== MODEL COMPARISON ====================\n",
        "\n",
        "print(\"\\n\" + \"=\"*70)\n",
        "print(\"FINAL MODEL COMPARISON\")\n",
        "print(\"=\"*70)\n",
        "\n",
        "models_comparison = {\n",
        "    'Model': ['Logistic Regression', 'Simple Neural Network', 'Best Neural Network', 'XGBoost'],\n",
        "    'Accuracy': [\n",
        "        accuracy_score(y_test, lr_pred),\n",
        "        accuracy_score(y_test, simple_pred_classes),\n",
        "        accuracy_score(y_test, best_pred),\n",
        "        accuracy_score(y_test, xgb_pred)\n",
        "    ],\n",
        "    'F1_Score': [\n",
        "        f1_score(y_test, lr_pred, average='macro'),\n",
        "        f1_score(y_test, simple_pred_classes, average='macro'),\n",
        "        f1_score(y_test, best_pred, average='macro'),\n",
        "        f1_score(y_test, xgb_pred, average='macro')\n",
        "    ],\n",
        "    'Precision': [\n",
        "        precision_score(y_test, lr_pred, average='macro'),\n",
        "        precision_score(y_test, simple_pred_classes, average='macro'),\n",
        "        precision_score(y_test, best_pred, average='macro'),\n",
        "        precision_score(y_test, xgb_pred, average='macro')\n",
        "    ],\n",
        "    'Recall': [\n",
        "        recall_score(y_test, lr_pred, average='macro'),\n",
        "        recall_score(y_test, simple_pred_classes, average='macro'),\n",
        "        recall_score(y_test, best_pred, average='macro'),\n",
        "        recall_score(y_test, xgb_pred, average='macro')\n",
        "    ]\n",
        "}\n",
        "\n",
        "comparison_df = pd.DataFrame(models_comparison)\n",
        "print(comparison_df.round(4))\n"
      ]
    },
    {
      "cell_type": "code",
      "execution_count": 27,
      "metadata": {},
      "outputs": [
        {
          "name": "stdout",
          "output_type": "stream",
          "text": [
            "\n",
            "Best model saved as 'best_drug_demand_model.keras'\n",
            "Best model configuration: Instance 2\n"
          ]
        }
      ],
      "source": [
        "# Save the best model\n",
        "best_model = [model1, model2, model3, model4, model5][best_idx]\n",
        "best_model.save('saved_models/best_drug_demand_model.keras')\n",
        "print(f\"\\nBest model saved as 'best_drug_demand_model.keras'\")\n",
        "print(f\"Best model configuration: Instance {best_idx + 1}\")"
      ]
    },
    {
      "cell_type": "code",
      "execution_count": 28,
      "metadata": {},
      "outputs": [
        {
          "name": "stdout",
          "output_type": "stream",
          "text": [
            "\u001b[1m1/1\u001b[0m \u001b[32m━━━━━━━━━━━━━━━━━━━━\u001b[0m\u001b[37m\u001b[0m \u001b[1m1s\u001b[0m 536ms/step\n",
            "\n",
            "==================================================\n",
            "SAMPLE PREDICTIONS\n",
            "==================================================\n",
            "Sample 1: Low Demand (Class 0) - Confidence: 0.969\n",
            "Sample 2: High Demand (Class 2) - Confidence: 0.985\n",
            "Sample 3: Low Demand (Class 0) - Confidence: 0.993\n",
            "Sample 4: Low Demand (Class 0) - Confidence: 0.996\n",
            "Sample 5: Low Demand (Class 0) - Confidence: 0.985\n",
            "Sample 6: High Demand (Class 2) - Confidence: 0.999\n",
            "Sample 7: High Demand (Class 2) - Confidence: 0.969\n",
            "Sample 8: High Demand (Class 2) - Confidence: 0.999\n",
            "Sample 9: High Demand (Class 2) - Confidence: 0.503\n",
            "Sample 10: High Demand (Class 2) - Confidence: 0.763\n"
          ]
        }
      ],
      "source": [
        "def make_predictions(model_path, X_new):\n",
        "    \"\"\"\n",
        "    Load saved model and make predictions on new data\n",
        "    \"\"\"\n",
        "    model = load_model(model_path)\n",
        "    predictions = model.predict(X_new)\n",
        "    predicted_classes = np.argmax(predictions, axis=1)\n",
        "    \n",
        "    # Convert to demand categories\n",
        "    demand_labels = {0: 'Low Demand', 1: 'Medium Demand', 2: 'High Demand'}\n",
        "    predicted_labels = [demand_labels[pred] for pred in predicted_classes]\n",
        "    \n",
        "    return predicted_classes, predicted_labels, predictions\n",
        "\n",
        "# Example prediction\n",
        "sample_predictions, sample_labels, sample_probs = make_predictions('saved_models/best_drug_demand_model.keras', X_test_scaled[:10])\n",
        "print(\"\\n\" + \"=\"*50)\n",
        "print(\"SAMPLE PREDICTIONS\")\n",
        "print(\"=\"*50)\n",
        "for i, (pred_class, pred_label, probs) in enumerate(zip(sample_predictions, sample_labels, sample_probs)):\n",
        "    print(f\"Sample {i+1}: {pred_label} (Class {pred_class}) - Confidence: {max(probs):.3f}\")"
      ]
    },
    {
      "cell_type": "markdown",
      "metadata": {
        "id": "rfTHk2nZMzTH"
      },
      "source": [
        "Congratulations!!\n"
      ]
    }
  ],
  "metadata": {
    "colab": {
      "include_colab_link": true,
      "provenance": [],
      "toc_visible": true
    },
    "kernelspec": {
      "display_name": "Python 3",
      "name": "python3"
    },
    "language_info": {
      "codemirror_mode": {
        "name": "ipython",
        "version": 3
      },
      "file_extension": ".py",
      "mimetype": "text/x-python",
      "name": "python",
      "nbconvert_exporter": "python",
      "pygments_lexer": "ipython3",
      "version": "3.12.8"
    }
  },
  "nbformat": 4,
  "nbformat_minor": 0
}
